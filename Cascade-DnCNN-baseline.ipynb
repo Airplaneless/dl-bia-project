{
 "cells": [
  {
   "cell_type": "code",
   "execution_count": 1,
   "id": "seeing-ireland",
   "metadata": {},
   "outputs": [
    {
     "name": "stdout",
     "output_type": "stream",
     "text": [
      "env: CUDA_VISIBLE_DEVICES=2\n"
     ]
    }
   ],
   "source": [
    "%env CUDA_VISIBLE_DEVICES=2\n",
    "from pathlib import Path\n",
    "\n",
    "if not Path(\"./small_fastmri_pd_3t\").is_dir():\n",
    "    !gdown --id \"1y78Ad6WwQpMGtxfEZlp97A0iV98kAiJN\"\n",
    "    !unzip -q small_fastmri_pd_3t.zip && rm small_fastmri_pd_3t.zip\n",
    "    \n",
    "if not Path(\"./dncnn-noiseless.pth\").is_file():\n",
    "    !gdown --id \"1azlqmuIkdhcsMQJL_YObF4sEe83D8J8N\""
   ]
  },
  {
   "cell_type": "code",
   "execution_count": 2,
   "id": "interior-nurse",
   "metadata": {},
   "outputs": [
    {
     "name": "stdout",
     "output_type": "stream",
     "text": [
      "Available GPUs:  1\n"
     ]
    }
   ],
   "source": [
    "import os\n",
    "import sys\n",
    "import numpy as np\n",
    "import h5py\n",
    "import pylab as plt\n",
    "import torch\n",
    "\n",
    "import pytorch_lightning as pl\n",
    "from pytorch_lightning.callbacks import Callback, ModelCheckpoint\n",
    "from k_space_reconstruction.nets.cdn_dncnn import DnCNNDCModule, CascadeModule\n",
    "from k_space_reconstruction.datasets.fastmri import FastMRITransform, FastMRIh5Dataset, RandomMaskFunc\n",
    "from k_space_reconstruction.utils.metrics import pt_msssim, pt_ssim, ssim, nmse, psnr\n",
    "from k_space_reconstruction.utils.loss import l1_loss, compund_mssim_l1_loss\n",
    "from k_space_reconstruction.utils.kspace import spatial2kspace, kspace2spatial\n",
    "\n",
    "print('Available GPUs: ', torch.cuda.device_count())"
   ]
  },
  {
   "cell_type": "markdown",
   "id": "backed-violation",
   "metadata": {},
   "source": [
    "# Dataset initialization"
   ]
  },
  {
   "cell_type": "code",
   "execution_count": 3,
   "id": "baking-bumper",
   "metadata": {},
   "outputs": [],
   "source": [
    "torch.manual_seed(42)\n",
    "np.random.seed(42)\n",
    "\n",
    "\n",
    "transform = FastMRITransform(\n",
    "    RandomMaskFunc([0.08], [4]),\n",
    "    noise_level=1000,\n",
    "    noise_type='none'\n",
    ")\n",
    "\n",
    "train_dataset = FastMRIh5Dataset('small_fastmri_pd_3t/train.h5', transform)\n",
    "val_dataset = FastMRIh5Dataset('small_fastmri_pd_3t/val.h5', transform)\n",
    "train_generator = torch.utils.data.DataLoader(train_dataset, batch_size=42, num_workers=12, shuffle=True)\n",
    "val_generator = torch.utils.data.DataLoader(val_dataset, batch_size=1, num_workers=12)"
   ]
  },
  {
   "cell_type": "markdown",
   "id": "silent-character",
   "metadata": {},
   "source": [
    "# Model definition\n",
    "also, we load weight of trained unet"
   ]
  },
  {
   "cell_type": "code",
   "execution_count": 4,
   "id": "measured-reflection",
   "metadata": {},
   "outputs": [
    {
     "data": {
      "text/plain": [
       "<All keys matched successfully>"
      ]
     },
     "execution_count": 4,
     "metadata": {},
     "output_type": "execute_result"
    }
   ],
   "source": [
    "model_kwargs = dict(\n",
    "    dncnn_chans=64, \n",
    "    dncnn_depth=10, \n",
    "    criterion=compund_mssim_l1_loss,\n",
    "    verbose_batch=50, \n",
    "    optimizer='Adam',\n",
    "    lr=1e-3,\n",
    "    lr_step_size=3,\n",
    "    lr_gamma=1.0,\n",
    "    weight_decay=0.0\n",
    ")\n",
    "\n",
    "cascade = CascadeModule(net=torch.nn.ModuleList([DnCNNDCModule(**model_kwargs).net]), **model_kwargs)\n",
    "cascade.net[0].cascade[0].load_state_dict(torch.load('dncnn-noiseless.pth'))"
   ]
  },
  {
   "cell_type": "code",
   "execution_count": 5,
   "id": "perfect-halifax",
   "metadata": {},
   "outputs": [],
   "source": [
    "def get_trainer():\n",
    "    return pl.Trainer(\n",
    "        gpus=1, max_epochs=10,\n",
    "        accumulate_grad_batches=3,\n",
    "        terminate_on_nan=True,\n",
    "        default_root_dir='logs/CascadeDnCNN',\n",
    "        callbacks=[\n",
    "            pl.callbacks.ModelCheckpoint(\n",
    "                save_last=True,\n",
    "                save_top_k=7, \n",
    "                monitor='val_loss', \n",
    "                filename='{epoch}-{ssim:.4f}-{psnr:.4f}-{nmse:.5f}'\n",
    "            ),\n",
    "            pl.callbacks.LearningRateMonitor(logging_interval='epoch'),\n",
    "            pl.callbacks.GPUStatsMonitor(temperature=True)\n",
    "        ]\n",
    "    )"
   ]
  },
  {
   "cell_type": "markdown",
   "id": "patient-campus",
   "metadata": {},
   "source": [
    "# Tensorboard logging"
   ]
  },
  {
   "cell_type": "code",
   "execution_count": 13,
   "id": "magnetic-jacksonville",
   "metadata": {},
   "outputs": [
    {
     "data": {
      "text/html": [
       "\n",
       "      <iframe id=\"tensorboard-frame-216946b9374a3cb4\" width=\"100%\" height=\"800\" frameborder=\"0\">\n",
       "      </iframe>\n",
       "      <script>\n",
       "        (function() {\n",
       "          const frame = document.getElementById(\"tensorboard-frame-216946b9374a3cb4\");\n",
       "          const url = new URL(\"/\", window.location);\n",
       "          const port = 8001;\n",
       "          if (port) {\n",
       "            url.port = port;\n",
       "          }\n",
       "          frame.src = url;\n",
       "        })();\n",
       "      </script>\n",
       "    "
      ],
      "text/plain": [
       "<IPython.core.display.HTML object>"
      ]
     },
     "metadata": {},
     "output_type": "display_data"
    }
   ],
   "source": [
    "%load_ext tensorboard\n",
    "%tensorboard --logdir logs/ --port 8001"
   ]
  },
  {
   "cell_type": "markdown",
   "id": "tender-australian",
   "metadata": {},
   "source": [
    "# Cascade trainig\n",
    "### Iterative train.\n",
    "We sequentionaly train block (DnCNN+ DC), freeze theese layers and append new block N times"
   ]
  },
  {
   "cell_type": "code",
   "execution_count": 7,
   "id": "cellular-brave",
   "metadata": {},
   "outputs": [
    {
     "name": "stderr",
     "output_type": "stream",
     "text": [
      "GPU available: True, used: True\n",
      "TPU available: False, using: 0 TPU cores\n",
      "LOCAL_RANK: 0 - CUDA_VISIBLE_DEVICES: [2]\n",
      "\n",
      "  | Name             | Type                 | Params\n",
      "----------------------------------------------------------\n",
      "0 | NMSE             | DistributedMetricSum | 0     \n",
      "1 | SSIM             | DistributedMetricSum | 0     \n",
      "2 | PSNR             | DistributedMetricSum | 0     \n",
      "3 | ValLoss          | DistributedMetricSum | 0     \n",
      "4 | TotExamples      | DistributedMetricSum | 0     \n",
      "5 | TotSliceExamples | DistributedMetricSum | 0     \n",
      "6 | net              | ModuleList           | 297 K \n"
     ]
    },
    {
     "data": {
      "application/vnd.jupyter.widget-view+json": {
       "model_id": "",
       "version_major": 2,
       "version_minor": 0
      },
      "text/plain": [
       "Validation sanity check: 0it [00:00, ?it/s]"
      ]
     },
     "metadata": {},
     "output_type": "display_data"
    },
    {
     "data": {
      "application/vnd.jupyter.widget-view+json": {
       "model_id": "6b7e260e5ec4498ebdd58ff0b693fe08",
       "version_major": 2,
       "version_minor": 0
      },
      "text/plain": [
       "Training: 0it [00:00, ?it/s]"
      ]
     },
     "metadata": {},
     "output_type": "display_data"
    },
    {
     "data": {
      "application/vnd.jupyter.widget-view+json": {
       "model_id": "",
       "version_major": 2,
       "version_minor": 0
      },
      "text/plain": [
       "Validating: 0it [00:00, ?it/s]"
      ]
     },
     "metadata": {},
     "output_type": "display_data"
    },
    {
     "data": {
      "application/vnd.jupyter.widget-view+json": {
       "model_id": "",
       "version_major": 2,
       "version_minor": 0
      },
      "text/plain": [
       "Validating: 0it [00:00, ?it/s]"
      ]
     },
     "metadata": {},
     "output_type": "display_data"
    },
    {
     "data": {
      "application/vnd.jupyter.widget-view+json": {
       "model_id": "",
       "version_major": 2,
       "version_minor": 0
      },
      "text/plain": [
       "Validating: 0it [00:00, ?it/s]"
      ]
     },
     "metadata": {},
     "output_type": "display_data"
    },
    {
     "data": {
      "application/vnd.jupyter.widget-view+json": {
       "model_id": "",
       "version_major": 2,
       "version_minor": 0
      },
      "text/plain": [
       "Validating: 0it [00:00, ?it/s]"
      ]
     },
     "metadata": {},
     "output_type": "display_data"
    },
    {
     "data": {
      "application/vnd.jupyter.widget-view+json": {
       "model_id": "",
       "version_major": 2,
       "version_minor": 0
      },
      "text/plain": [
       "Validating: 0it [00:00, ?it/s]"
      ]
     },
     "metadata": {},
     "output_type": "display_data"
    },
    {
     "data": {
      "application/vnd.jupyter.widget-view+json": {
       "model_id": "",
       "version_major": 2,
       "version_minor": 0
      },
      "text/plain": [
       "Validating: 0it [00:00, ?it/s]"
      ]
     },
     "metadata": {},
     "output_type": "display_data"
    },
    {
     "data": {
      "application/vnd.jupyter.widget-view+json": {
       "model_id": "",
       "version_major": 2,
       "version_minor": 0
      },
      "text/plain": [
       "Validating: 0it [00:00, ?it/s]"
      ]
     },
     "metadata": {},
     "output_type": "display_data"
    },
    {
     "data": {
      "application/vnd.jupyter.widget-view+json": {
       "model_id": "",
       "version_major": 2,
       "version_minor": 0
      },
      "text/plain": [
       "Validating: 0it [00:00, ?it/s]"
      ]
     },
     "metadata": {},
     "output_type": "display_data"
    },
    {
     "data": {
      "application/vnd.jupyter.widget-view+json": {
       "model_id": "",
       "version_major": 2,
       "version_minor": 0
      },
      "text/plain": [
       "Validating: 0it [00:00, ?it/s]"
      ]
     },
     "metadata": {},
     "output_type": "display_data"
    },
    {
     "data": {
      "application/vnd.jupyter.widget-view+json": {
       "model_id": "",
       "version_major": 2,
       "version_minor": 0
      },
      "text/plain": [
       "Validating: 0it [00:00, ?it/s]"
      ]
     },
     "metadata": {},
     "output_type": "display_data"
    },
    {
     "name": "stderr",
     "output_type": "stream",
     "text": [
      "Saving latest checkpoint...\n",
      "GPU available: True, used: True\n",
      "TPU available: False, using: 0 TPU cores\n",
      "LOCAL_RANK: 0 - CUDA_VISIBLE_DEVICES: [2]\n",
      "\n",
      "  | Name             | Type                 | Params\n",
      "----------------------------------------------------------\n",
      "0 | NMSE             | DistributedMetricSum | 0     \n",
      "1 | SSIM             | DistributedMetricSum | 0     \n",
      "2 | PSNR             | DistributedMetricSum | 0     \n",
      "3 | ValLoss          | DistributedMetricSum | 0     \n",
      "4 | TotExamples      | DistributedMetricSum | 0     \n",
      "5 | TotSliceExamples | DistributedMetricSum | 0     \n",
      "6 | net              | ModuleList           | 594 K \n"
     ]
    },
    {
     "data": {
      "application/vnd.jupyter.widget-view+json": {
       "model_id": "",
       "version_major": 2,
       "version_minor": 0
      },
      "text/plain": [
       "Validation sanity check: 0it [00:00, ?it/s]"
      ]
     },
     "metadata": {},
     "output_type": "display_data"
    },
    {
     "data": {
      "application/vnd.jupyter.widget-view+json": {
       "model_id": "fc05a5b31c4448dda41e7af6836f039d",
       "version_major": 2,
       "version_minor": 0
      },
      "text/plain": [
       "Training: 0it [00:00, ?it/s]"
      ]
     },
     "metadata": {},
     "output_type": "display_data"
    },
    {
     "data": {
      "application/vnd.jupyter.widget-view+json": {
       "model_id": "",
       "version_major": 2,
       "version_minor": 0
      },
      "text/plain": [
       "Validating: 0it [00:00, ?it/s]"
      ]
     },
     "metadata": {},
     "output_type": "display_data"
    },
    {
     "data": {
      "application/vnd.jupyter.widget-view+json": {
       "model_id": "",
       "version_major": 2,
       "version_minor": 0
      },
      "text/plain": [
       "Validating: 0it [00:00, ?it/s]"
      ]
     },
     "metadata": {},
     "output_type": "display_data"
    },
    {
     "data": {
      "application/vnd.jupyter.widget-view+json": {
       "model_id": "",
       "version_major": 2,
       "version_minor": 0
      },
      "text/plain": [
       "Validating: 0it [00:00, ?it/s]"
      ]
     },
     "metadata": {},
     "output_type": "display_data"
    },
    {
     "data": {
      "application/vnd.jupyter.widget-view+json": {
       "model_id": "",
       "version_major": 2,
       "version_minor": 0
      },
      "text/plain": [
       "Validating: 0it [00:00, ?it/s]"
      ]
     },
     "metadata": {},
     "output_type": "display_data"
    },
    {
     "data": {
      "application/vnd.jupyter.widget-view+json": {
       "model_id": "",
       "version_major": 2,
       "version_minor": 0
      },
      "text/plain": [
       "Validating: 0it [00:00, ?it/s]"
      ]
     },
     "metadata": {},
     "output_type": "display_data"
    },
    {
     "data": {
      "application/vnd.jupyter.widget-view+json": {
       "model_id": "",
       "version_major": 2,
       "version_minor": 0
      },
      "text/plain": [
       "Validating: 0it [00:00, ?it/s]"
      ]
     },
     "metadata": {},
     "output_type": "display_data"
    },
    {
     "data": {
      "application/vnd.jupyter.widget-view+json": {
       "model_id": "",
       "version_major": 2,
       "version_minor": 0
      },
      "text/plain": [
       "Validating: 0it [00:00, ?it/s]"
      ]
     },
     "metadata": {},
     "output_type": "display_data"
    },
    {
     "data": {
      "application/vnd.jupyter.widget-view+json": {
       "model_id": "",
       "version_major": 2,
       "version_minor": 0
      },
      "text/plain": [
       "Validating: 0it [00:00, ?it/s]"
      ]
     },
     "metadata": {},
     "output_type": "display_data"
    },
    {
     "data": {
      "application/vnd.jupyter.widget-view+json": {
       "model_id": "",
       "version_major": 2,
       "version_minor": 0
      },
      "text/plain": [
       "Validating: 0it [00:00, ?it/s]"
      ]
     },
     "metadata": {},
     "output_type": "display_data"
    },
    {
     "data": {
      "application/vnd.jupyter.widget-view+json": {
       "model_id": "",
       "version_major": 2,
       "version_minor": 0
      },
      "text/plain": [
       "Validating: 0it [00:00, ?it/s]"
      ]
     },
     "metadata": {},
     "output_type": "display_data"
    },
    {
     "name": "stderr",
     "output_type": "stream",
     "text": [
      "Saving latest checkpoint...\n",
      "GPU available: True, used: True\n",
      "TPU available: False, using: 0 TPU cores\n",
      "LOCAL_RANK: 0 - CUDA_VISIBLE_DEVICES: [2]\n",
      "\n",
      "  | Name             | Type                 | Params\n",
      "----------------------------------------------------------\n",
      "0 | NMSE             | DistributedMetricSum | 0     \n",
      "1 | SSIM             | DistributedMetricSum | 0     \n",
      "2 | PSNR             | DistributedMetricSum | 0     \n",
      "3 | ValLoss          | DistributedMetricSum | 0     \n",
      "4 | TotExamples      | DistributedMetricSum | 0     \n",
      "5 | TotSliceExamples | DistributedMetricSum | 0     \n",
      "6 | net              | ModuleList           | 891 K \n"
     ]
    },
    {
     "data": {
      "application/vnd.jupyter.widget-view+json": {
       "model_id": "",
       "version_major": 2,
       "version_minor": 0
      },
      "text/plain": [
       "Validation sanity check: 0it [00:00, ?it/s]"
      ]
     },
     "metadata": {},
     "output_type": "display_data"
    },
    {
     "data": {
      "application/vnd.jupyter.widget-view+json": {
       "model_id": "f50b10a073f74326841ad8474117c97d",
       "version_major": 2,
       "version_minor": 0
      },
      "text/plain": [
       "Training: 0it [00:00, ?it/s]"
      ]
     },
     "metadata": {},
     "output_type": "display_data"
    },
    {
     "data": {
      "application/vnd.jupyter.widget-view+json": {
       "model_id": "",
       "version_major": 2,
       "version_minor": 0
      },
      "text/plain": [
       "Validating: 0it [00:00, ?it/s]"
      ]
     },
     "metadata": {},
     "output_type": "display_data"
    },
    {
     "data": {
      "application/vnd.jupyter.widget-view+json": {
       "model_id": "",
       "version_major": 2,
       "version_minor": 0
      },
      "text/plain": [
       "Validating: 0it [00:00, ?it/s]"
      ]
     },
     "metadata": {},
     "output_type": "display_data"
    },
    {
     "data": {
      "application/vnd.jupyter.widget-view+json": {
       "model_id": "",
       "version_major": 2,
       "version_minor": 0
      },
      "text/plain": [
       "Validating: 0it [00:00, ?it/s]"
      ]
     },
     "metadata": {},
     "output_type": "display_data"
    },
    {
     "data": {
      "application/vnd.jupyter.widget-view+json": {
       "model_id": "",
       "version_major": 2,
       "version_minor": 0
      },
      "text/plain": [
       "Validating: 0it [00:00, ?it/s]"
      ]
     },
     "metadata": {},
     "output_type": "display_data"
    },
    {
     "data": {
      "application/vnd.jupyter.widget-view+json": {
       "model_id": "",
       "version_major": 2,
       "version_minor": 0
      },
      "text/plain": [
       "Validating: 0it [00:00, ?it/s]"
      ]
     },
     "metadata": {},
     "output_type": "display_data"
    },
    {
     "data": {
      "application/vnd.jupyter.widget-view+json": {
       "model_id": "",
       "version_major": 2,
       "version_minor": 0
      },
      "text/plain": [
       "Validating: 0it [00:00, ?it/s]"
      ]
     },
     "metadata": {},
     "output_type": "display_data"
    },
    {
     "data": {
      "application/vnd.jupyter.widget-view+json": {
       "model_id": "",
       "version_major": 2,
       "version_minor": 0
      },
      "text/plain": [
       "Validating: 0it [00:00, ?it/s]"
      ]
     },
     "metadata": {},
     "output_type": "display_data"
    },
    {
     "data": {
      "application/vnd.jupyter.widget-view+json": {
       "model_id": "",
       "version_major": 2,
       "version_minor": 0
      },
      "text/plain": [
       "Validating: 0it [00:00, ?it/s]"
      ]
     },
     "metadata": {},
     "output_type": "display_data"
    },
    {
     "data": {
      "application/vnd.jupyter.widget-view+json": {
       "model_id": "",
       "version_major": 2,
       "version_minor": 0
      },
      "text/plain": [
       "Validating: 0it [00:00, ?it/s]"
      ]
     },
     "metadata": {},
     "output_type": "display_data"
    },
    {
     "data": {
      "application/vnd.jupyter.widget-view+json": {
       "model_id": "",
       "version_major": 2,
       "version_minor": 0
      },
      "text/plain": [
       "Validating: 0it [00:00, ?it/s]"
      ]
     },
     "metadata": {},
     "output_type": "display_data"
    },
    {
     "name": "stderr",
     "output_type": "stream",
     "text": [
      "Saving latest checkpoint...\n",
      "GPU available: True, used: True\n",
      "TPU available: False, using: 0 TPU cores\n",
      "LOCAL_RANK: 0 - CUDA_VISIBLE_DEVICES: [2]\n",
      "\n",
      "  | Name             | Type                 | Params\n",
      "----------------------------------------------------------\n",
      "0 | NMSE             | DistributedMetricSum | 0     \n",
      "1 | SSIM             | DistributedMetricSum | 0     \n",
      "2 | PSNR             | DistributedMetricSum | 0     \n",
      "3 | ValLoss          | DistributedMetricSum | 0     \n",
      "4 | TotExamples      | DistributedMetricSum | 0     \n",
      "5 | TotSliceExamples | DistributedMetricSum | 0     \n",
      "6 | net              | ModuleList           | 1.2 M \n"
     ]
    },
    {
     "data": {
      "application/vnd.jupyter.widget-view+json": {
       "model_id": "",
       "version_major": 2,
       "version_minor": 0
      },
      "text/plain": [
       "Validation sanity check: 0it [00:00, ?it/s]"
      ]
     },
     "metadata": {},
     "output_type": "display_data"
    },
    {
     "data": {
      "application/vnd.jupyter.widget-view+json": {
       "model_id": "e21a09fbd1da4606993ec6f08795b369",
       "version_major": 2,
       "version_minor": 0
      },
      "text/plain": [
       "Training: 0it [00:00, ?it/s]"
      ]
     },
     "metadata": {},
     "output_type": "display_data"
    },
    {
     "data": {
      "application/vnd.jupyter.widget-view+json": {
       "model_id": "",
       "version_major": 2,
       "version_minor": 0
      },
      "text/plain": [
       "Validating: 0it [00:00, ?it/s]"
      ]
     },
     "metadata": {},
     "output_type": "display_data"
    },
    {
     "data": {
      "application/vnd.jupyter.widget-view+json": {
       "model_id": "",
       "version_major": 2,
       "version_minor": 0
      },
      "text/plain": [
       "Validating: 0it [00:00, ?it/s]"
      ]
     },
     "metadata": {},
     "output_type": "display_data"
    },
    {
     "data": {
      "application/vnd.jupyter.widget-view+json": {
       "model_id": "",
       "version_major": 2,
       "version_minor": 0
      },
      "text/plain": [
       "Validating: 0it [00:00, ?it/s]"
      ]
     },
     "metadata": {},
     "output_type": "display_data"
    },
    {
     "data": {
      "application/vnd.jupyter.widget-view+json": {
       "model_id": "",
       "version_major": 2,
       "version_minor": 0
      },
      "text/plain": [
       "Validating: 0it [00:00, ?it/s]"
      ]
     },
     "metadata": {},
     "output_type": "display_data"
    },
    {
     "data": {
      "application/vnd.jupyter.widget-view+json": {
       "model_id": "",
       "version_major": 2,
       "version_minor": 0
      },
      "text/plain": [
       "Validating: 0it [00:00, ?it/s]"
      ]
     },
     "metadata": {},
     "output_type": "display_data"
    },
    {
     "data": {
      "application/vnd.jupyter.widget-view+json": {
       "model_id": "",
       "version_major": 2,
       "version_minor": 0
      },
      "text/plain": [
       "Validating: 0it [00:00, ?it/s]"
      ]
     },
     "metadata": {},
     "output_type": "display_data"
    },
    {
     "data": {
      "application/vnd.jupyter.widget-view+json": {
       "model_id": "",
       "version_major": 2,
       "version_minor": 0
      },
      "text/plain": [
       "Validating: 0it [00:00, ?it/s]"
      ]
     },
     "metadata": {},
     "output_type": "display_data"
    },
    {
     "data": {
      "application/vnd.jupyter.widget-view+json": {
       "model_id": "",
       "version_major": 2,
       "version_minor": 0
      },
      "text/plain": [
       "Validating: 0it [00:00, ?it/s]"
      ]
     },
     "metadata": {},
     "output_type": "display_data"
    },
    {
     "data": {
      "application/vnd.jupyter.widget-view+json": {
       "model_id": "",
       "version_major": 2,
       "version_minor": 0
      },
      "text/plain": [
       "Validating: 0it [00:00, ?it/s]"
      ]
     },
     "metadata": {},
     "output_type": "display_data"
    },
    {
     "data": {
      "application/vnd.jupyter.widget-view+json": {
       "model_id": "",
       "version_major": 2,
       "version_minor": 0
      },
      "text/plain": [
       "Validating: 0it [00:00, ?it/s]"
      ]
     },
     "metadata": {},
     "output_type": "display_data"
    },
    {
     "name": "stderr",
     "output_type": "stream",
     "text": [
      "Saving latest checkpoint...\n",
      "GPU available: True, used: True\n",
      "TPU available: False, using: 0 TPU cores\n",
      "LOCAL_RANK: 0 - CUDA_VISIBLE_DEVICES: [2]\n",
      "\n",
      "  | Name             | Type                 | Params\n",
      "----------------------------------------------------------\n",
      "0 | NMSE             | DistributedMetricSum | 0     \n",
      "1 | SSIM             | DistributedMetricSum | 0     \n",
      "2 | PSNR             | DistributedMetricSum | 0     \n",
      "3 | ValLoss          | DistributedMetricSum | 0     \n",
      "4 | TotExamples      | DistributedMetricSum | 0     \n",
      "5 | TotSliceExamples | DistributedMetricSum | 0     \n",
      "6 | net              | ModuleList           | 1.5 M \n"
     ]
    },
    {
     "data": {
      "application/vnd.jupyter.widget-view+json": {
       "model_id": "",
       "version_major": 2,
       "version_minor": 0
      },
      "text/plain": [
       "Validation sanity check: 0it [00:00, ?it/s]"
      ]
     },
     "metadata": {},
     "output_type": "display_data"
    },
    {
     "data": {
      "application/vnd.jupyter.widget-view+json": {
       "model_id": "d158e455e3b04d03903abc4e6c1c9e8a",
       "version_major": 2,
       "version_minor": 0
      },
      "text/plain": [
       "Training: 0it [00:00, ?it/s]"
      ]
     },
     "metadata": {},
     "output_type": "display_data"
    },
    {
     "data": {
      "application/vnd.jupyter.widget-view+json": {
       "model_id": "",
       "version_major": 2,
       "version_minor": 0
      },
      "text/plain": [
       "Validating: 0it [00:00, ?it/s]"
      ]
     },
     "metadata": {},
     "output_type": "display_data"
    },
    {
     "data": {
      "application/vnd.jupyter.widget-view+json": {
       "model_id": "",
       "version_major": 2,
       "version_minor": 0
      },
      "text/plain": [
       "Validating: 0it [00:00, ?it/s]"
      ]
     },
     "metadata": {},
     "output_type": "display_data"
    },
    {
     "data": {
      "application/vnd.jupyter.widget-view+json": {
       "model_id": "",
       "version_major": 2,
       "version_minor": 0
      },
      "text/plain": [
       "Validating: 0it [00:00, ?it/s]"
      ]
     },
     "metadata": {},
     "output_type": "display_data"
    },
    {
     "data": {
      "application/vnd.jupyter.widget-view+json": {
       "model_id": "",
       "version_major": 2,
       "version_minor": 0
      },
      "text/plain": [
       "Validating: 0it [00:00, ?it/s]"
      ]
     },
     "metadata": {},
     "output_type": "display_data"
    },
    {
     "data": {
      "application/vnd.jupyter.widget-view+json": {
       "model_id": "",
       "version_major": 2,
       "version_minor": 0
      },
      "text/plain": [
       "Validating: 0it [00:00, ?it/s]"
      ]
     },
     "metadata": {},
     "output_type": "display_data"
    },
    {
     "data": {
      "application/vnd.jupyter.widget-view+json": {
       "model_id": "",
       "version_major": 2,
       "version_minor": 0
      },
      "text/plain": [
       "Validating: 0it [00:00, ?it/s]"
      ]
     },
     "metadata": {},
     "output_type": "display_data"
    },
    {
     "data": {
      "application/vnd.jupyter.widget-view+json": {
       "model_id": "",
       "version_major": 2,
       "version_minor": 0
      },
      "text/plain": [
       "Validating: 0it [00:00, ?it/s]"
      ]
     },
     "metadata": {},
     "output_type": "display_data"
    },
    {
     "data": {
      "application/vnd.jupyter.widget-view+json": {
       "model_id": "",
       "version_major": 2,
       "version_minor": 0
      },
      "text/plain": [
       "Validating: 0it [00:00, ?it/s]"
      ]
     },
     "metadata": {},
     "output_type": "display_data"
    },
    {
     "data": {
      "application/vnd.jupyter.widget-view+json": {
       "model_id": "",
       "version_major": 2,
       "version_minor": 0
      },
      "text/plain": [
       "Validating: 0it [00:00, ?it/s]"
      ]
     },
     "metadata": {},
     "output_type": "display_data"
    },
    {
     "data": {
      "application/vnd.jupyter.widget-view+json": {
       "model_id": "",
       "version_major": 2,
       "version_minor": 0
      },
      "text/plain": [
       "Validating: 0it [00:00, ?it/s]"
      ]
     },
     "metadata": {},
     "output_type": "display_data"
    },
    {
     "name": "stderr",
     "output_type": "stream",
     "text": [
      "Saving latest checkpoint...\n"
     ]
    }
   ],
   "source": [
    "num_blocks = 5\n",
    "for i in range(num_blocks):\n",
    "    # Train cascade block\n",
    "    trainer = get_trainer()\n",
    "    trainer.fit(cascade, train_dataloader=train_generator, val_dataloaders=val_generator)\n",
    "    # Freeze last cascade blocks\n",
    "    for param in cascade.net.parameters():\n",
    "        param.requires_grad = False\n",
    "    # Add new block to cascade\n",
    "    if i != num_blocks - 1:\n",
    "        cascade = CascadeModule(net=cascade.net.append(DnCNNDCModule(**model_kwargs).net), **model_kwargs)\n",
    "        # Load statedict for unet in last trainable block\n",
    "        cascade.net[-1].cascade[0].load_state_dict(torch.load('dncnn-noiseless.pth'))"
   ]
  },
  {
   "cell_type": "markdown",
   "id": "expired-input",
   "metadata": {},
   "source": [
    "# Cascade finetuning\n",
    "Train one epoch all layers in cascade"
   ]
  },
  {
   "cell_type": "code",
   "execution_count": 7,
   "id": "6092aa52-8958-45d0-ad1a-cc90f580e4b1",
   "metadata": {},
   "outputs": [],
   "source": [
    "transform = FastMRITransform(\n",
    "    RandomMaskFunc([0.08], [4]),\n",
    "    noise_level=1000,\n",
    "    noise_type='none'\n",
    ")\n",
    "\n",
    "train_dataset = FastMRIh5Dataset('small_fastmri_pd_3t/train.h5', transform)\n",
    "val_dataset = FastMRIh5Dataset('small_fastmri_pd_3t/val.h5', transform)\n",
    "train_generator = torch.utils.data.DataLoader(train_dataset, batch_size=8, num_workers=12, shuffle=True)\n",
    "val_generator = torch.utils.data.DataLoader(val_dataset, batch_size=1, num_workers=12)"
   ]
  },
  {
   "cell_type": "code",
   "execution_count": null,
   "id": "peaceful-annotation",
   "metadata": {
    "tags": []
   },
   "outputs": [
    {
     "name": "stderr",
     "output_type": "stream",
     "text": [
      "GPU available: True, used: True\n",
      "TPU available: False, using: 0 TPU cores\n",
      "LOCAL_RANK: 0 - CUDA_VISIBLE_DEVICES: [2]\n",
      "\n",
      "  | Name             | Type                 | Params\n",
      "----------------------------------------------------------\n",
      "0 | NMSE             | DistributedMetricSum | 0     \n",
      "1 | SSIM             | DistributedMetricSum | 0     \n",
      "2 | PSNR             | DistributedMetricSum | 0     \n",
      "3 | ValLoss          | DistributedMetricSum | 0     \n",
      "4 | TotExamples      | DistributedMetricSum | 0     \n",
      "5 | TotSliceExamples | DistributedMetricSum | 0     \n",
      "6 | net              | ModuleList           | 1.5 M \n"
     ]
    },
    {
     "data": {
      "application/vnd.jupyter.widget-view+json": {
       "model_id": "",
       "version_major": 2,
       "version_minor": 0
      },
      "text/plain": [
       "Validation sanity check: 0it [00:00, ?it/s]"
      ]
     },
     "metadata": {},
     "output_type": "display_data"
    },
    {
     "data": {
      "application/vnd.jupyter.widget-view+json": {
       "model_id": "7b37803ced5045fba1ffe4a9274b9376",
       "version_major": 2,
       "version_minor": 0
      },
      "text/plain": [
       "Training: 0it [00:00, ?it/s]"
      ]
     },
     "metadata": {},
     "output_type": "display_data"
    },
    {
     "data": {
      "application/vnd.jupyter.widget-view+json": {
       "model_id": "",
       "version_major": 2,
       "version_minor": 0
      },
      "text/plain": [
       "Validating: 0it [00:00, ?it/s]"
      ]
     },
     "metadata": {},
     "output_type": "display_data"
    },
    {
     "data": {
      "application/vnd.jupyter.widget-view+json": {
       "model_id": "",
       "version_major": 2,
       "version_minor": 0
      },
      "text/plain": [
       "Validating: 0it [00:00, ?it/s]"
      ]
     },
     "metadata": {},
     "output_type": "display_data"
    },
    {
     "data": {
      "application/vnd.jupyter.widget-view+json": {
       "model_id": "",
       "version_major": 2,
       "version_minor": 0
      },
      "text/plain": [
       "Validating: 0it [00:00, ?it/s]"
      ]
     },
     "metadata": {},
     "output_type": "display_data"
    },
    {
     "data": {
      "application/vnd.jupyter.widget-view+json": {
       "model_id": "",
       "version_major": 2,
       "version_minor": 0
      },
      "text/plain": [
       "Validating: 0it [00:00, ?it/s]"
      ]
     },
     "metadata": {},
     "output_type": "display_data"
    },
    {
     "data": {
      "application/vnd.jupyter.widget-view+json": {
       "model_id": "",
       "version_major": 2,
       "version_minor": 0
      },
      "text/plain": [
       "Validating: 0it [00:00, ?it/s]"
      ]
     },
     "metadata": {},
     "output_type": "display_data"
    },
    {
     "data": {
      "application/vnd.jupyter.widget-view+json": {
       "model_id": "",
       "version_major": 2,
       "version_minor": 0
      },
      "text/plain": [
       "Validating: 0it [00:00, ?it/s]"
      ]
     },
     "metadata": {},
     "output_type": "display_data"
    },
    {
     "data": {
      "application/vnd.jupyter.widget-view+json": {
       "model_id": "",
       "version_major": 2,
       "version_minor": 0
      },
      "text/plain": [
       "Validating: 0it [00:00, ?it/s]"
      ]
     },
     "metadata": {},
     "output_type": "display_data"
    },
    {
     "data": {
      "application/vnd.jupyter.widget-view+json": {
       "model_id": "",
       "version_major": 2,
       "version_minor": 0
      },
      "text/plain": [
       "Validating: 0it [00:00, ?it/s]"
      ]
     },
     "metadata": {},
     "output_type": "display_data"
    },
    {
     "data": {
      "application/vnd.jupyter.widget-view+json": {
       "model_id": "",
       "version_major": 2,
       "version_minor": 0
      },
      "text/plain": [
       "Validating: 0it [00:00, ?it/s]"
      ]
     },
     "metadata": {},
     "output_type": "display_data"
    },
    {
     "data": {
      "application/vnd.jupyter.widget-view+json": {
       "model_id": "",
       "version_major": 2,
       "version_minor": 0
      },
      "text/plain": [
       "Validating: 0it [00:00, ?it/s]"
      ]
     },
     "metadata": {},
     "output_type": "display_data"
    },
    {
     "data": {
      "application/vnd.jupyter.widget-view+json": {
       "model_id": "",
       "version_major": 2,
       "version_minor": 0
      },
      "text/plain": [
       "Validating: 0it [00:00, ?it/s]"
      ]
     },
     "metadata": {},
     "output_type": "display_data"
    },
    {
     "data": {
      "application/vnd.jupyter.widget-view+json": {
       "model_id": "",
       "version_major": 2,
       "version_minor": 0
      },
      "text/plain": [
       "Validating: 0it [00:00, ?it/s]"
      ]
     },
     "metadata": {},
     "output_type": "display_data"
    },
    {
     "data": {
      "application/vnd.jupyter.widget-view+json": {
       "model_id": "",
       "version_major": 2,
       "version_minor": 0
      },
      "text/plain": [
       "Validating: 0it [00:00, ?it/s]"
      ]
     },
     "metadata": {},
     "output_type": "display_data"
    },
    {
     "data": {
      "application/vnd.jupyter.widget-view+json": {
       "model_id": "",
       "version_major": 2,
       "version_minor": 0
      },
      "text/plain": [
       "Validating: 0it [00:00, ?it/s]"
      ]
     },
     "metadata": {},
     "output_type": "display_data"
    }
   ],
   "source": [
    "cascade = CascadeModule\\\n",
    ".load_from_checkpoint('logs/CascadeDnCNN/lightning_logs/version_4/checkpoints/last.ckpt', #<-----HERE!!!!!!!!!!1111\n",
    "                      net=torch.nn.ModuleList([DnCNNDCModule(**model_kwargs).net for _ in range(5)]))\n",
    "\n",
    "trainer = pl.Trainer(\n",
    "    gpus=1, max_epochs=20,\n",
    "    accumulate_grad_batches=16,\n",
    "    terminate_on_nan=True,\n",
    "    default_root_dir='logs/CascadeDnCNN',\n",
    "    callbacks=[\n",
    "        pl.callbacks.ModelCheckpoint(\n",
    "            save_last=True,\n",
    "            save_top_k=7, \n",
    "            monitor='val_loss', \n",
    "            filename='{epoch}-{ssim:.4f}-{psnr:.4f}-{nmse:.5f}'\n",
    "        ),\n",
    "        pl.callbacks.LearningRateMonitor(logging_interval='epoch'),\n",
    "        pl.callbacks.GPUStatsMonitor(temperature=True)\n",
    "    ]\n",
    ")\n",
    "for param in cascade.net.parameters():\n",
    "    param.requires_grad = True\n",
    "trainer.fit(cascade, train_dataloader=train_generator, val_dataloaders=val_generator)"
   ]
  },
  {
   "cell_type": "markdown",
   "id": "connected-links",
   "metadata": {},
   "source": [
    "# Test model\n",
    "Load best checkpoint, inference on val dataset and save predictions to .h5 file in logs directory"
   ]
  },
  {
   "cell_type": "code",
   "execution_count": 6,
   "id": "afraid-finance",
   "metadata": {},
   "outputs": [],
   "source": [
    "net = CascadeModule\\\n",
    ".load_from_checkpoint('logs/CascadeDnCNN/lightning_logs/version_5/checkpoints/last.ckpt', \n",
    "                      net=torch.nn.ModuleList([DnCNNDCModule(**model_kwargs).net for _ in range(5)]))\\\n",
    ".eval()"
   ]
  },
  {
   "cell_type": "code",
   "execution_count": 7,
   "id": "pressing-ceiling",
   "metadata": {},
   "outputs": [
    {
     "name": "stderr",
     "output_type": "stream",
     "text": [
      "GPU available: True, used: True\n",
      "TPU available: False, using: 0 TPU cores\n",
      "LOCAL_RANK: 0 - CUDA_VISIBLE_DEVICES: [2]\n"
     ]
    },
    {
     "data": {
      "application/vnd.jupyter.widget-view+json": {
       "model_id": "ef7b3155bee143e9b8464cf36f431d47",
       "version_major": 2,
       "version_minor": 0
      },
      "text/plain": [
       "Testing: 0it [00:00, ?it/s]"
      ]
     },
     "metadata": {},
     "output_type": "display_data"
    },
    {
     "name": "stdout",
     "output_type": "stream",
     "text": [
      "--------------------------------------------------------------------------------\n"
     ]
    },
    {
     "data": {
      "text/plain": [
       "1"
      ]
     },
     "execution_count": 7,
     "metadata": {},
     "output_type": "execute_result"
    }
   ],
   "source": [
    "trainer = get_trainer()\n",
    "trainer.test(net, val_generator)"
   ]
  },
  {
   "cell_type": "markdown",
   "id": "technical-coral",
   "metadata": {},
   "source": [
    "# Val metrics"
   ]
  },
  {
   "cell_type": "code",
   "execution_count": 8,
   "id": "colored-production",
   "metadata": {},
   "outputs": [
    {
     "data": {
      "text/plain": [
       "(0.8408257259322178, 0.007343859336441998, 33.224599606388445)"
      ]
     },
     "execution_count": 8,
     "metadata": {},
     "output_type": "execute_result"
    }
   ],
   "source": [
    "hf_pred = h5py.File('logs/CascadeDnCNN/2021-05-19 09:58:07.696428.h5')\n",
    "hf_gt = h5py.File('small_fastmri_pd_3t/val.h5')\n",
    "\n",
    "ssim_vals = []\n",
    "nmse_vals = []\n",
    "psnr_vals = []\n",
    "for k in hf_pred.keys():\n",
    "    ks = hf_gt[k][:] * 1e6\n",
    "    gt = np.stack([kspace2spatial(k) for k in ks])\n",
    "    pred = hf_pred[k][:,0]\n",
    "    ssim_vals.append(ssim(gt, pred))\n",
    "    nmse_vals.append(nmse(gt, pred))\n",
    "    psnr_vals.append(psnr(gt, pred))\n",
    "ssim_vals = np.array(ssim_vals)\n",
    "nmse_vals = np.array(nmse_vals)\n",
    "psnr_vals = np.array(psnr_vals)\n",
    "\n",
    "np.mean(ssim_vals), np.mean(nmse_vals), np.mean(psnr_vals)"
   ]
  },
  {
   "cell_type": "markdown",
   "id": "phantom-pioneer",
   "metadata": {},
   "source": [
    "# Saving Weights of the Model "
   ]
  },
  {
   "cell_type": "code",
   "execution_count": 12,
   "id": "opening-survivor",
   "metadata": {},
   "outputs": [],
   "source": [
    "torch.save(net.net.state_dict(), 'cascade-x5-dncnn-dc-noiseless.pth')"
   ]
  },
  {
   "cell_type": "markdown",
   "id": "0cf2c006-688e-4337-89c5-3c61263cefd7",
   "metadata": {},
   "source": [
    "### Gaussian Noise"
   ]
  },
  {
   "cell_type": "code",
   "execution_count": 9,
   "id": "94598c5d-eebe-4d22-afbd-2d9b22674f53",
   "metadata": {},
   "outputs": [
    {
     "data": {
      "application/vnd.jupyter.widget-view+json": {
       "model_id": "9dd54573d1814908ab2dbfc75a232839",
       "version_major": 2,
       "version_minor": 0
      },
      "text/plain": [
       "Testing: 0it [00:00, ?it/s]"
      ]
     },
     "metadata": {},
     "output_type": "display_data"
    },
    {
     "name": "stdout",
     "output_type": "stream",
     "text": [
      "--------------------------------------------------------------------------------\n"
     ]
    },
    {
     "data": {
      "text/plain": [
       "1"
      ]
     },
     "execution_count": 9,
     "metadata": {},
     "output_type": "execute_result"
    }
   ],
   "source": [
    "torch.manual_seed(42)\n",
    "np.random.seed(42)\n",
    "\n",
    "transform = FastMRITransform(\n",
    "    RandomMaskFunc([0.08], [4]),\n",
    "    noise_level=100,\n",
    "    noise_type='normal'\n",
    ")\n",
    "\n",
    "val_dataset = FastMRIh5Dataset('small_fastmri_pd_3t/val.h5', transform)\n",
    "val_generator = torch.utils.data.DataLoader(val_dataset, batch_size=1, num_workers=12)\n",
    "\n",
    "cascade = CascadeModule(net=torch.nn.ModuleList([DnCNNDCModule(**model_kwargs).net for _ in range(5)]), **model_kwargs).eval()\n",
    "cascade.net.load_state_dict(torch.load('cascade-x5-dncnn-dc-gaussian.pth'))\n",
    "\n",
    "trainer.test(cascade, val_generator)"
   ]
  },
  {
   "cell_type": "code",
   "execution_count": 11,
   "id": "eb584284-416e-4bc0-a043-f84ea21a36b6",
   "metadata": {},
   "outputs": [
    {
     "data": {
      "text/plain": [
       "(0.6639753021951389, 0.018288597576547667, 29.548517447894856)"
      ]
     },
     "execution_count": 11,
     "metadata": {},
     "output_type": "execute_result"
    }
   ],
   "source": [
    "hf_pred = h5py.File('logs/CascadeDnCNN/2021-05-19 10:02:53.980685.h5')\n",
    "hf_gt = h5py.File('small_fastmri_pd_3t/val.h5')\n",
    "\n",
    "ssim_vals = []\n",
    "nmse_vals = []\n",
    "psnr_vals = []\n",
    "for k in hf_pred.keys():\n",
    "    ks = hf_gt[k][:] * 1e6\n",
    "    gt = np.stack([kspace2spatial(k) for k in ks])\n",
    "    pred = hf_pred[k][:,0]\n",
    "    ssim_vals.append(ssim(gt, pred))\n",
    "    nmse_vals.append(nmse(gt, pred))\n",
    "    psnr_vals.append(psnr(gt, pred))\n",
    "ssim_vals = np.array(ssim_vals)\n",
    "nmse_vals = np.array(nmse_vals)\n",
    "psnr_vals = np.array(psnr_vals)\n",
    "\n",
    "np.mean(ssim_vals), np.mean(nmse_vals), np.mean(psnr_vals)"
   ]
  },
  {
   "cell_type": "markdown",
   "id": "5e1b7878-abee-41d4-9fae-b77687b2c51c",
   "metadata": {},
   "source": [
    "### Salt&Pepper Noise"
   ]
  },
  {
   "cell_type": "code",
   "execution_count": 12,
   "id": "c80606b9-36fb-488a-9ac5-a30f708df30b",
   "metadata": {},
   "outputs": [
    {
     "data": {
      "application/vnd.jupyter.widget-view+json": {
       "model_id": "77313806704a49ff81d2188823976a87",
       "version_major": 2,
       "version_minor": 0
      },
      "text/plain": [
       "Testing: 0it [00:00, ?it/s]"
      ]
     },
     "metadata": {},
     "output_type": "display_data"
    },
    {
     "name": "stdout",
     "output_type": "stream",
     "text": [
      "--------------------------------------------------------------------------------\n"
     ]
    },
    {
     "data": {
      "text/plain": [
       "1"
      ]
     },
     "execution_count": 12,
     "metadata": {},
     "output_type": "execute_result"
    }
   ],
   "source": [
    "torch.manual_seed(42)\n",
    "np.random.seed(42)\n",
    "\n",
    "transform = FastMRITransform(\n",
    "    RandomMaskFunc([0.08], [4]),\n",
    "    noise_level=5e4,\n",
    "    noise_type='salt'\n",
    ")\n",
    "\n",
    "val_dataset = FastMRIh5Dataset('small_fastmri_pd_3t/val.h5', transform)\n",
    "val_generator = torch.utils.data.DataLoader(val_dataset, batch_size=1, num_workers=12)\n",
    "\n",
    "cascade = CascadeModule(net=torch.nn.ModuleList([DnCNNDCModule(**model_kwargs).net for _ in range(5)]), **model_kwargs).eval()\n",
    "cascade.net.load_state_dict(torch.load('cascade-x5-dncnn-dc-salt.pth'))\n",
    "\n",
    "trainer.test(cascade, val_generator)"
   ]
  },
  {
   "cell_type": "code",
   "execution_count": 13,
   "id": "e67b7a5f-b774-465b-abc9-1d28dc181f5d",
   "metadata": {},
   "outputs": [
    {
     "data": {
      "text/plain": [
       "(0.31123803757831264, 0.2565603553074655, 19.346977271667313)"
      ]
     },
     "execution_count": 13,
     "metadata": {},
     "output_type": "execute_result"
    }
   ],
   "source": [
    "hf_pred = h5py.File('logs/CascadeDnCNN/2021-05-19 10:04:21.063800.h5')\n",
    "hf_gt = h5py.File('small_fastmri_pd_3t/val.h5')\n",
    "\n",
    "ssim_vals = []\n",
    "nmse_vals = []\n",
    "psnr_vals = []\n",
    "for k in hf_pred.keys():\n",
    "    ks = hf_gt[k][:] * 1e6\n",
    "    gt = np.stack([kspace2spatial(k) for k in ks])\n",
    "    pred = hf_pred[k][:,0]\n",
    "    ssim_vals.append(ssim(gt, pred))\n",
    "    nmse_vals.append(nmse(gt, pred))\n",
    "    psnr_vals.append(psnr(gt, pred))\n",
    "ssim_vals = np.array(ssim_vals)\n",
    "nmse_vals = np.array(nmse_vals)\n",
    "psnr_vals = np.array(psnr_vals)\n",
    "\n",
    "np.mean(ssim_vals), np.mean(nmse_vals), np.mean(psnr_vals)"
   ]
  },
  {
   "cell_type": "markdown",
   "id": "bf87d50a-d8d0-46db-b35c-be976bcc8255",
   "metadata": {},
   "source": [
    "### Gaussian + Salt&Pepper Noise"
   ]
  },
  {
   "cell_type": "code",
   "execution_count": 14,
   "id": "3ad4d091-8eab-43a6-a11b-0ff6dbe9f488",
   "metadata": {},
   "outputs": [
    {
     "data": {
      "application/vnd.jupyter.widget-view+json": {
       "model_id": "6877d0031fa04bf99b1967db38d48816",
       "version_major": 2,
       "version_minor": 0
      },
      "text/plain": [
       "Testing: 0it [00:00, ?it/s]"
      ]
     },
     "metadata": {},
     "output_type": "display_data"
    },
    {
     "name": "stdout",
     "output_type": "stream",
     "text": [
      "--------------------------------------------------------------------------------\n"
     ]
    },
    {
     "data": {
      "text/plain": [
       "1"
      ]
     },
     "execution_count": 14,
     "metadata": {},
     "output_type": "execute_result"
    }
   ],
   "source": [
    "torch.manual_seed(42)\n",
    "np.random.seed(42)\n",
    "\n",
    "transform = FastMRITransform(\n",
    "    RandomMaskFunc([0.08], [4]),\n",
    "    noise_level=5e4,\n",
    "    noise_type='normal_and_salt'\n",
    ")\n",
    "\n",
    "val_dataset = FastMRIh5Dataset('small_fastmri_pd_3t/val.h5', transform)\n",
    "val_generator = torch.utils.data.DataLoader(val_dataset, batch_size=1, num_workers=12)\n",
    "\n",
    "cascade = CascadeModule(net=torch.nn.ModuleList([DnCNNDCModule(**model_kwargs).net for _ in range(5)]), **model_kwargs).eval()\n",
    "cascade.net.load_state_dict(torch.load('cascade-x5-dncnn-dc-normal-and-salt.pth'))\n",
    "\n",
    "trainer.test(cascade, val_generator)"
   ]
  },
  {
   "cell_type": "code",
   "execution_count": 15,
   "id": "28218225-065b-43b1-b231-6caedfc7c729",
   "metadata": {},
   "outputs": [
    {
     "data": {
      "text/plain": [
       "(0.20220556615532695, 0.5462473468539938, 16.115841135229477)"
      ]
     },
     "execution_count": 15,
     "metadata": {},
     "output_type": "execute_result"
    }
   ],
   "source": [
    "hf_pred = h5py.File('logs/CascadeDnCNN/2021-05-19 10:04:56.407233.h5')\n",
    "hf_gt = h5py.File('small_fastmri_pd_3t/val.h5')\n",
    "\n",
    "ssim_vals = []\n",
    "nmse_vals = []\n",
    "psnr_vals = []\n",
    "for k in hf_pred.keys():\n",
    "    ks = hf_gt[k][:] * 1e6\n",
    "    gt = np.stack([kspace2spatial(k) for k in ks])\n",
    "    pred = hf_pred[k][:,0]\n",
    "    ssim_vals.append(ssim(gt, pred))\n",
    "    nmse_vals.append(nmse(gt, pred))\n",
    "    psnr_vals.append(psnr(gt, pred))\n",
    "ssim_vals = np.array(ssim_vals)\n",
    "nmse_vals = np.array(nmse_vals)\n",
    "psnr_vals = np.array(psnr_vals)\n",
    "\n",
    "np.mean(ssim_vals), np.mean(nmse_vals), np.mean(psnr_vals)"
   ]
  },
  {
   "cell_type": "code",
   "execution_count": null,
   "id": "fd69da18-e052-459d-a5fd-cf3aaf1386cf",
   "metadata": {},
   "outputs": [],
   "source": []
  }
 ],
 "metadata": {
  "kernelspec": {
   "display_name": "Python 3",
   "language": "python",
   "name": "python3"
  },
  "language_info": {
   "codemirror_mode": {
    "name": "ipython",
    "version": 3
   },
   "file_extension": ".py",
   "mimetype": "text/x-python",
   "name": "python",
   "nbconvert_exporter": "python",
   "pygments_lexer": "ipython3",
   "version": "3.8.8"
  }
 },
 "nbformat": 4,
 "nbformat_minor": 5
}
